{
 "cells": [
  {
   "cell_type": "markdown",
   "id": "c7e812b2",
   "metadata": {},
   "source": [
    "## Exercise 13"
   ]
  },
  {
   "cell_type": "markdown",
   "id": "6293f6bc",
   "metadata": {},
   "source": [
    "## Exercise 2\n",
    "\n",
    "# Data Science Tools and Ecosystem"
   ]
  },
  {
   "cell_type": "markdown",
   "id": "670352da",
   "metadata": {},
   "source": [
    "## Exercise 3\n",
    "\n",
    "## Introduction\n",
    "\n",
    "Welcome to this notebook! In this document, we will explore and discuss various topics related to [subject of the notebook]. Whether you're a beginner looking to learn more or an expert seeking deeper insights, this notebook aims to provide valuable information and insights into [subject]. We'll cover concepts, examples, and practical applications to help you grasp the key aspects of the topic.\n",
    "\n",
    "Feel free to follow along, experiment with the code snippets, and engage with the content. Let's get started!"
   ]
  },
  {
   "cell_type": "markdown",
   "id": "066ca9c1",
   "metadata": {},
   "source": [
    "## Exercise 4\n",
    "\n",
    "## Data Science Programming Languages\n",
    "\n",
    "Data science involves working with large datasets, performing analysis, and extracting valuable insights. Here are some commonly used programming languages in the field of data science:\n",
    "1. Python\n",
    "2. R\n",
    "3. SQL\n",
    "4. Scala\n",
    "5. Java\n",
    "6. C++\n",
    "7. Julia\n",
    "8. JavaScript\n",
    "9. PHP\n",
    "10. Go"
   ]
  },
  {
   "cell_type": "markdown",
   "id": "2e86ed9e",
   "metadata": {},
   "source": [
    "## Exercise 5\n",
    "\n",
    "## Essential Data Science Libraries\n",
    "1. Pandas\n",
    "2. Numpy\n",
    "3. Matplotlib\n",
    "4. Seaborn\n",
    "5. Scikit-learn\n",
    "6. Keras\n",
    "7. TensorFlow\n",
    "8. PyTorch\n",
    "9. Apache Spark\n",
    "10. Vegas\n",
    "11. Big DL\n",
    "12. Ggplot2"
   ]
  },
  {
   "cell_type": "markdown",
   "id": "d5b07dc3",
   "metadata": {},
   "source": [
    "## Exercise 6\n",
    "\n",
    "## Data Science Tools\n",
    "\n",
    "When working on data science projects, a variety of tools can aid in data manipulation, analysis, visualization, and modeling. Here's a table showcasing some commonly used data science tools:\n",
    "\n",
    "| Category          | Tool                   | Description                                                                                   |\n",
    "|-------------------|------------------------|-----------------------------------------------------------------------------------------------|\n",
    "| **Programming Languages** | Python             | General-purpose language with rich data science libraries.                                    |\n",
    "|                     | R                  | Language focused on statistical analysis and visualization.                                   |\n",
    "| **Data Manipulation**     | pandas (Python)    | Library for data manipulation and analysis using DataFrames.                                 |\n",
    "|                     | dplyr (R)           | Package for easy data manipulation using a grammar of verbs.                                 |\n",
    "| **Visualization**         | Matplotlib (Python)| Comprehensive library for creating static visualizations.                                    |\n",
    "|                     | ggplot2 (R)         | Declarative system for creating graphics based on grammar of graphics.                       |\n",
    "| **Machine Learning**       | scikit-learn (Python) | Library for machine learning algorithms and tools.                                         |\n",
    "|                     | caret (R)           | Toolkit for training and evaluating machine learning models.                                 |\n",
    "| **Deep Learning**         | TensorFlow (Python)  | Open-source platform for building and deploying ML models.                                   |\n",
    "|                     | PyTorch (Python)    | Deep learning framework known for its dynamic computation graph.                              |\n",
    "| **Database**             | SQL (Structured Query Language) | Standard for managing relational databases.                                             |\n",
    "|                     | SQLite              | Self-contained, serverless database engine.                                                |\n",
    "| **Big Data**             | Apache Hadoop       | Framework for processing and storing large datasets in a distributed computing environment.  |\n",
    "|                     | Apache Spark        | Fast and general-purpose cluster computing system for big data.                              |\n",
    "| **Notebooks**            | Jupyter Notebook (Python) | Interactive environment for code, visualizations, and text.                               |\n",
    "|                     | R Markdown (R)      | Format for creating dynamic documents with R code and commentary.                            |\n",
    "| **Version Control**       | Git                 | Distributed version control system for tracking changes in code.                            |\n",
    "|                     | GitHub              | Web-based platform for hosting and collaborating on Git repositories.                         |"
   ]
  },
  {
   "cell_type": "markdown",
   "id": "0fd78abf",
   "metadata": {},
   "source": [
    "## Exercise 7\n",
    "\n",
    "## Arithmetic Expressions: Examples\n",
    "\n",
    "Arithmetic expressions are fundamental in mathematics and programming, allowing us to perform calculations and manipulate numerical values. In this section, we'll explore some common arithmetic operations and expressions using various operators. \n",
    "\n",
    "### Basic Arithmetic Operators\n",
    "\n",
    "Here are some basic arithmetic operators and examples of how they can be used:\n",
    "\n",
    "- **Addition (+):** Combining two values to find their sum. Example: 5 + 3 = 8.\n",
    "- **Subtraction (-):** Finding the difference between two values. Example: 10 - 7 = 3.\n",
    "- **Multiplication (*):** Multiplying two values to get the product. Example: 4 * 6 = 24.\n",
    "- **Division (/):** Dividing one value by another to get the quotient. Example: 15 / 3 = 5.\n",
    "\n",
    "### Order of Operations\n",
    "\n",
    "Arithmetic expressions often involve multiple operations. The order in which these operations are performed follows the standard \"PEMDAS\" rule:\n",
    "\n",
    "1. **Parentheses:** Operations inside parentheses are performed first.\n",
    "2. **Exponents:** Calculations involving exponents are done next.\n",
    "3. **Multiplication and Division:** These operations are performed from left to right.\n",
    "4. **Addition and Subtraction:** Similarly, these operations are performed from left to right.\n",
    "\n",
    "Example: 3 + 5 * 2 - (4 / 2) = 10\n",
    "\n",
    "### Additional Examples\n",
    "\n",
    "Let's look at some more complex examples to illustrate how arithmetic expressions work:\n",
    "\n",
    "- **Expression 1:** (7 + 2) * 3 = 27\n",
    "- **Expression 2:** 10 / (2 + 3) = 2\n",
    "- **Expression 3:** 2 ** 4 + 1 = 17 (Note: ** represents exponentiation)\n",
    "\n",
    "Arithmetic expressions play a crucial role in various fields, including mathematics, physics, and programming. They allow us to perform calculations and solve problems efficiently. In programming, they are essential for tasks involving numerical data and computations."
   ]
  },
  {
   "cell_type": "markdown",
   "id": "992a85f7",
   "metadata": {},
   "source": [
    "## Exercise 8"
   ]
  },
  {
   "cell_type": "code",
   "execution_count": 2,
   "id": "8720c234",
   "metadata": {},
   "outputs": [
    {
     "data": {
      "text/plain": [
       "32"
      ]
     },
     "execution_count": 2,
     "metadata": {},
     "output_type": "execute_result"
    }
   ],
   "source": [
    "# Simple arirhmetic expression to multiply then add integers\n",
    "(10*2)+12"
   ]
  },
  {
   "cell_type": "markdown",
   "id": "36424eac",
   "metadata": {},
   "source": [
    "## Exercise 9"
   ]
  },
  {
   "cell_type": "code",
   "execution_count": 2,
   "id": "e637784a",
   "metadata": {},
   "outputs": [
    {
     "name": "stdout",
     "output_type": "stream",
     "text": [
      "145 minutes is equal to 2 hours and 25 minutes\n"
     ]
    }
   ],
   "source": [
    "# Convert minutes to hours and minutes\n",
    "total_minutes = 145\n",
    "hours = total_minutes // 60\n",
    "remaining_minutes = total_minutes % 60\n",
    "\n",
    "print(f\"{total_minutes} minutes is equal to {hours} hours and {remaining_minutes} minutes\")"
   ]
  },
  {
   "cell_type": "markdown",
   "id": "9c1be975",
   "metadata": {},
   "source": [
    "## Exercise 10\n",
    "\n",
    "## Project Objectives\n",
    "\n",
    "In this data science project, we aim to achieve the following objectives:\n",
    "\n",
    "1. **Data Collection and Preprocessing:** Gather relevant data from various sources and clean the data to remove any inconsistencies or errors.\n",
    "\n",
    "2. **Exploratory Data Analysis (EDA):** Perform an initial analysis of the dataset to understand its structure, identify patterns, and gain insights into the variables.\n",
    "\n",
    "3. **Feature Engineering:** Create new features or transform existing ones to improve the predictive power of the models.\n",
    "\n",
    "4. **Model Building:** Develop machine learning models to solve the specific problem at hand, considering appropriate algorithms and techniques.\n",
    "\n",
    "5. **Model Evaluation:** Assess the performance of the models using appropriate evaluation metrics and techniques. Tune hyperparameters to optimize model performance.\n",
    "\n",
    "6. **Visualization:** Create informative visualizations to communicate findings and insights to stakeholders effectively.\n",
    "\n",
    "7. **Interpretation:** Interpret the results of the models and provide actionable recommendations based on the insights gained.\n",
    "\n",
    "8. **Documentation:** Document the entire process, including data preprocessing steps, model architectures, evaluation results, and visualizations, to ensure reproducibility and knowledge sharing.\n",
    "\n",
    "9. **Presentation:** Prepare a clear and concise presentation summarizing the project's objectives, methodology, findings, and recommendations for stakeholders.\n",
    "\n",
    "10. **Continuous Learning:** Reflect on the project's outcomes, identify areas for improvement, and explore opportunities for future enhancements or iterations.\n",
    "\n",
    "By accomplishing these objectives, we aim to deliver a comprehensive data science solution that addresses the problem statement and provides valuable insights to guide decision-making."
   ]
  },
  {
   "cell_type": "markdown",
   "id": "4b67aa42",
   "metadata": {},
   "source": [
    "## Exercise 11\n",
    "\n",
    "## Nguyen\n",
    "\n",
    "This data science project was authored by [Nguyen]."
   ]
  },
  {
   "cell_type": "markdown",
   "id": "144b8dc9",
   "metadata": {},
   "source": [
    "---\n",
    "\n",
    "# Open datasets and sources:\n",
    "### - Government Data:\n",
    "- https://www.data.gov/\n",
    "- https://www.census.gov/data.html\n",
    "- https://data.gov.uk/\n",
    "- https://www.opendatanetwork.com/\n",
    "- https://data.un.org/\n",
    "    \n",
    "### - Financial Data Sources:\n",
    "- https://data.worldbank.org/\n",
    "- https://www.globalfinancialdata.com/\n",
    "- https://comtrade.un.org/\n",
    "- https://www.nber.org/\n",
    "- https://fred.stlouisfed.org/\n",
    "\n",
    "### - Crime Data:\n",
    "- https://www.fbi.gov/services/cjis/ucr\n",
    "- https://www.icpsr.umich.edu/icpsrweb/content/NACJD/index.html\n",
    "- https://www.drugabuse.gov/related-topics/trends-statistics\n",
    "- https://www.unodc.org/unodc/en/data-and-analysis/\n",
    "\n",
    "### - Health Data:\n",
    "- https://www.who.int/gho/database/en/\n",
    "- https://www.fda.gov/Food/default.htm\n",
    "- https://seer.cancer.gov/faststats/selections.php?series=cancer\n",
    "- https://www.opensciencedatacloud.org/\n",
    "- https://pds.nasa.gov/\n",
    "- https://earthdata.nasa.gov/\n",
    "- https://www.sgim.org/communities/research/dataset-compendium/public-datasets-topic-grid\n",
    "\n",
    "### - Academic and Business Data:\n",
    "- https://scholar.google.com/\n",
    "- https://nces.ed.gov/\n",
    "- https://www.glassdoor.com/research/\n",
    "- https://www.yelp.com/dataset\n",
    "\n",
    "### - Other General Data:\n",
    "- https://www.kaggle.com/datasets\n",
    "- https://www.reddit.com/r/datasets/\n",
    "\n",
    "# Propriety datasets and sources:\n",
    "- Health Care: https://www.sgim.org/communities/research/dataset-compendium/proprietary-datasets\n",
    "- Financial Market data: https://datarade.ai/data-categories/proprietary-market-data\n",
    "- Google Cloud based datasets: https://cloud.google.com/datasets"
   ]
  },
  {
   "cell_type": "markdown",
   "id": "d7ebe983",
   "metadata": {},
   "source": [
    "---\n",
    "# Getting Started with Branches using Git Commands\n",
    "- You would typically use Git commands from your own desktop/laptop. However, so you can get started using the commands quickly without having to download or install anything, we are providing an IDE with a Terminal on the Cloud. Simply click the Open Tool button below to launch the Skills Network Cloud IDE and in the new browser tab that launches, follow the instructions to practice the Git commands.\n",
    "- After completing this lab you will be able to use git commands to start working with creating and managing your code branches, including:\n",
    "    1. create a new local repository using `git init`\n",
    "    2. create and add a file to the repo using `git add`\n",
    "    3. commit changes using `git commit`\n",
    "    4. create a branch using `git branch`\n",
    "    5. switch to a branch using `git checkout`\n",
    "    6. check the status of files changed using `git status`\n",
    "    7. review recent commits using `git log`\n",
    "    8. reert changes using `git revert`\n",
    "    9. get a list of branches and active branch using `git branch`\n",
    "    10. merge changes in your active branch into another branch using `git merge`"
   ]
  },
  {
   "cell_type": "code",
   "execution_count": null,
   "id": "de61cfac",
   "metadata": {},
   "outputs": [],
   "source": []
  }
 ],
 "metadata": {
  "kernelspec": {
   "display_name": "Python 3 (ipykernel)",
   "language": "python",
   "name": "python3"
  },
  "language_info": {
   "codemirror_mode": {
    "name": "ipython",
    "version": 3
   },
   "file_extension": ".py",
   "mimetype": "text/x-python",
   "name": "python",
   "nbconvert_exporter": "python",
   "pygments_lexer": "ipython3",
   "version": "3.9.6"
  }
 },
 "nbformat": 4,
 "nbformat_minor": 5
}
